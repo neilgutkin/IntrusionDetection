{
 "cells": [
  {
   "cell_type": "markdown",
   "metadata": {
    "id": "FkZWBwHLV_oe"
   },
   "source": [
    "Experiment description\n",
    " - Continual Learning using MLP model\n",
    " - CL strategy: Deep Generative Replay (DGR)\n",
    " - Dataset: 50% of IDS 2018 (5 out of 10 csv files)\n",
    " - Task organization: each csv file is assigned to a task, for a total of 5 tasks \n",
    " - Data preprocessing: .h5 file -> pandas DataFrame -> Encode labels -> pytorch Dataset, DataLoader\n",
    " \n",
    "Experiment Result: \n",
    " - reasoning for the result: "
   ]
  },
  {
   "cell_type": "code",
   "execution_count": 27,
   "metadata": {
    "id": "QbIxMPFWV2I2"
   },
   "outputs": [],
   "source": [
    "import numpy as np\n",
    "import pandas as pd\n",
    "import matplotlib.pyplot as plt\n",
    "import torch\n",
    "import torch.nn as nn\n",
    "import torch.optim as optim\n",
    "import torch.nn.functional as F\n",
    "from torch.utils.data import Dataset, DataLoader, random_split, ConcatDataset\n",
    "from torch.utils.data.dataloader import default_collate\n",
    "from tqdm import tqdm\n",
    "from sklearn.preprocessing import LabelEncoder\n",
    "\n",
    "import os\n",
    "import sys\n",
    "dest_path = 'C:/path/to/IDS2018/data'\n",
    "sys.path.append(dest_path)\n",
    "import utils\n",
    "from tabgan.sampler import GANGenerator\n"
   ]
  },
  {
   "cell_type": "code",
   "execution_count": 28,
   "metadata": {
    "id": "OMuejR-5hVpN"
   },
   "outputs": [],
   "source": [
    "# Define relevant variables for the ML task\n",
    "num_batch = 32\n",
    "num_class = 10\n",
    "num_epoch = 20\n",
    "\n",
    "encoder = LabelEncoder()\n",
    "\n",
    "# Device will determine whether to run the training on GPU or CPU.\n",
    "device = torch.device('cuda' if torch.cuda.is_available() else 'cpu')\n",
    "\n",
    "# Load full y data to encode label\n",
    "y_all = pd.HDFStore(dest_path + 'ids2018_all_y.h5','r')\n",
    "num_task = len(y_all.keys())"
   ]
  },
  {
   "cell_type": "markdown",
   "metadata": {
    "id": "bfYQ1_0OfYSC"
   },
   "source": [
    "### Data Generation"
   ]
  },
  {
   "cell_type": "code",
   "execution_count": 29,
   "metadata": {
    "id": "nsTYWlfeUQiP"
   },
   "outputs": [],
   "source": [
    "# Load full y data to encode label\n",
    "y_all = pd.HDFStore(dest_path + 'ids2018_all_y.h5','r')\n",
    "\n",
    "df_y_all0302 = y_all.get('/Friday-02-03-2018_TrafficForML_CICFlowMeter.csv')\n",
    "df_y_all0216 = y_all.get('/Friday-16-02-2018_TrafficForML_CICFlowMeter.csv')\n",
    "df_y_all0214 = y_all.get('/Wednesday-14-02-2018_TrafficForML_CICFlowMeter.csv')\n",
    "df_y_all0221 = y_all.get('/Wednesday-21-02-2018_TrafficForML_CICFlowMeter.csv')\n",
    "df_y_all0228 = y_all.get('/Wednesday-28-02-2018_TrafficForML_CICFlowMeter.csv')\n",
    "df_y_all = pd.concat([df_y_all0302, df_y_all0216, df_y_all0214, df_y_all0221, df_y_all0228], ignore_index=True)"
   ]
  },
  {
   "cell_type": "code",
   "execution_count": 30,
   "metadata": {
    "colab": {
     "base_uri": "https://localhost:8080/"
    },
    "executionInfo": {
     "elapsed": 19,
     "status": "ok",
     "timestamp": 1667522544574,
     "user": {
      "displayName": "Jong Heon Kim",
      "userId": "07363861998817775217"
     },
     "user_tz": 240
    },
    "id": "g1VCCUbmVpI_",
    "outputId": "e98396a4-5404-4cc3-831b-c13e090b4b8b"
   },
   "outputs": [
    {
     "data": {
      "text/plain": [
       "array(['Benign', 'Bot', 'DDOS attack-HOIC', 'DDOS attack-LOIC-UDP',\n",
       "       'DoS attacks-Hulk', 'DoS attacks-SlowHTTPTest', 'FTP-BruteForce',\n",
       "       'Infilteration', 'SSH-Bruteforce'], dtype=object)"
      ]
     },
     "execution_count": 30,
     "metadata": {},
     "output_type": "execute_result"
    }
   ],
   "source": [
    "encoder.fit(df_y_all)\n",
    "encoder.classes_"
   ]
  },
  {
   "cell_type": "code",
   "execution_count": 31,
   "metadata": {},
   "outputs": [
    {
     "data": {
      "application/vnd.jupyter.widget-view+json": {
       "model_id": "c6e817abccf44ea2885597254b2ad0df",
       "version_major": 2,
       "version_minor": 0
      },
      "text/plain": [
       "Fitting CTGAN transformers for each column:   0%|          | 0/78 [00:00<?, ?it/s]"
      ]
     },
     "metadata": {},
     "output_type": "display_data"
    },
    {
     "data": {
      "application/vnd.jupyter.widget-view+json": {
       "model_id": "00ad2ac6e03845ed91094b761db07d4a",
       "version_major": 2,
       "version_minor": 0
      },
      "text/plain": [
       "Training CTGAN, epochs::   0%|          | 0/500 [00:00<?, ?it/s]"
      ]
     },
     "metadata": {},
     "output_type": "display_data"
    },
    {
     "data": {
      "text/plain": [
       "<AxesSubplot:>"
      ]
     },
     "execution_count": 31,
     "metadata": {},
     "output_type": "execute_result"
    },
    {
     "data": {
      "image/png": "[encoded data removed]",
      "text/plain": [
       "<Figure size 432x288 with 1 Axes>"
      ]
     },
     "metadata": {
      "needs_background": "light"
     },
     "output_type": "display_data"
    }
   ],
   "source": [
    "# Gather task 1 data\n",
    "df_X11_train, df_y11_train, df_X11_val = utils.buildCombinedDataset(dest_path, 1, encoder)\n",
    "df_X11_gen, df_y11_gen = GANGenerator().generate_data_pipe(df_X11_train, df_y11_train, df_X11_val,)\n",
    "df_y11_gen.hist()"
   ]
  },
  {
   "cell_type": "code",
   "execution_count": 32,
   "metadata": {},
   "outputs": [
    {
     "data": {
      "application/vnd.jupyter.widget-view+json": {
       "model_id": "e3673eb004944a918b891d69afa8c514",
       "version_major": 2,
       "version_minor": 0
      },
      "text/plain": [
       "Fitting CTGAN transformers for each column:   0%|          | 0/78 [00:00<?, ?it/s]"
      ]
     },
     "metadata": {},
     "output_type": "display_data"
    },
    {
     "data": {
      "application/vnd.jupyter.widget-view+json": {
       "model_id": "adf8e923fcbe426cb15c1411449cb270",
       "version_major": 2,
       "version_minor": 0
      },
      "text/plain": [
       "Training CTGAN, epochs::   0%|          | 0/500 [00:00<?, ?it/s]"
      ]
     },
     "metadata": {},
     "output_type": "display_data"
    },
    {
     "data": {
      "text/plain": [
       "<AxesSubplot:>"
      ]
     },
     "execution_count": 32,
     "metadata": {},
     "output_type": "execute_result"
    },
    {
     "data": {
      "image/png": "[encoded data removed]",
      "text/plain": [
       "<Figure size 432x288 with 1 Axes>"
      ]
     },
     "metadata": {
      "needs_background": "light"
     },
     "output_type": "display_data"
    }
   ],
   "source": [
    "# Gather task 2 data\n",
    "df_X12_train, df_y12_train, df_X12_val = utils.buildCombinedDataset(dest_path, 2, encoder, df_X11_gen, df_y11_gen)\n",
    "df_X12_gen, df_y12_gen = GANGenerator().generate_data_pipe(df_X12_train, df_y12_train, df_X12_val,)\n",
    "df_y12_gen.hist()"
   ]
  },
  {
   "cell_type": "code",
   "execution_count": 33,
   "metadata": {},
   "outputs": [
    {
     "data": {
      "application/vnd.jupyter.widget-view+json": {
       "model_id": "99d3e3e38f234625afe528ff52dc0b27",
       "version_major": 2,
       "version_minor": 0
      },
      "text/plain": [
       "Fitting CTGAN transformers for each column:   0%|          | 0/78 [00:00<?, ?it/s]"
      ]
     },
     "metadata": {},
     "output_type": "display_data"
    },
    {
     "data": {
      "application/vnd.jupyter.widget-view+json": {
       "model_id": "78ca1957b8ae4ddcb71d87915b45d48d",
       "version_major": 2,
       "version_minor": 0
      },
      "text/plain": [
       "Training CTGAN, epochs::   0%|          | 0/500 [00:00<?, ?it/s]"
      ]
     },
     "metadata": {},
     "output_type": "display_data"
    },
    {
     "data": {
      "text/plain": [
       "<AxesSubplot:>"
      ]
     },
     "execution_count": 33,
     "metadata": {},
     "output_type": "execute_result"
    },
    {
     "data": {
      "image/png": "[encoded data removed]",
      "text/plain": [
       "<Figure size 432x288 with 1 Axes>"
      ]
     },
     "metadata": {
      "needs_background": "light"
     },
     "output_type": "display_data"
    }
   ],
   "source": [
    "# Gather task 3 data\n",
    "df_X13_train, df_y13_train, df_X13_val = utils.buildCombinedDataset(dest_path, 3, encoder, df_X12_gen, df_y12_gen)\n",
    "df_X13_gen, df_y13_gen = GANGenerator().generate_data_pipe(df_X13_train, df_y13_train, df_X13_val,)\n",
    "df_y13_gen.hist()"
   ]
  },
  {
   "cell_type": "code",
   "execution_count": 34,
   "metadata": {},
   "outputs": [
    {
     "data": {
      "application/vnd.jupyter.widget-view+json": {
       "model_id": "392e84fac6be4d6db3a09d74eee11e5d",
       "version_major": 2,
       "version_minor": 0
      },
      "text/plain": [
       "Fitting CTGAN transformers for each column:   0%|          | 0/78 [00:00<?, ?it/s]"
      ]
     },
     "metadata": {},
     "output_type": "display_data"
    },
    {
     "data": {
      "application/vnd.jupyter.widget-view+json": {
       "model_id": "78d1bf1acfd6479e9578e46dba5851cf",
       "version_major": 2,
       "version_minor": 0
      },
      "text/plain": [
       "Training CTGAN, epochs::   0%|          | 0/500 [00:00<?, ?it/s]"
      ]
     },
     "metadata": {},
     "output_type": "display_data"
    },
    {
     "data": {
      "text/plain": [
       "<AxesSubplot:>"
      ]
     },
     "execution_count": 34,
     "metadata": {},
     "output_type": "execute_result"
    },
    {
     "data": {
      "image/png": "[encoded data removed]",
      "text/plain": [
       "<Figure size 432x288 with 1 Axes>"
      ]
     },
     "metadata": {
      "needs_background": "light"
     },
     "output_type": "display_data"
    }
   ],
   "source": [
    "# Gather task 4 data\n",
    "df_X14_train, df_y14_train, df_X14_val = utils.buildCombinedDataset(dest_path, 4, encoder, df_X13_gen, df_y13_gen)\n",
    "df_X14_gen, df_y14_gen = GANGenerator().generate_data_pipe(df_X14_train, df_y14_train, df_X14_val,)\n",
    "df_y14_gen.hist()"
   ]
  },
  {
   "cell_type": "code",
   "execution_count": 35,
   "metadata": {},
   "outputs": [],
   "source": [
    "# Gather task 5 data\n",
    "df_X15_train, df_y15_train, df_X15_val = utils.buildCombinedDataset(dest_path, 5, encoder, df_X14_gen, df_y14_gen)"
   ]
  },
  {
   "cell_type": "code",
   "execution_count": 71,
   "metadata": {},
   "outputs": [],
   "source": [
    "# Create Datasets from DataFrames\n",
    "# Task-specific train\n",
    "DSs_train = []\n",
    "DSs_train.append(utils.ids2018Dataset(df_X11_train, df_y11_train.squeeze().values))\n",
    "DSs_train.append(utils.ids2018Dataset(df_X12_train, df_y12_train.squeeze().values))\n",
    "DSs_train.append(utils.ids2018Dataset(df_X13_train, df_y13_train.squeeze().values))\n",
    "DSs_train.append(utils.ids2018Dataset(df_X14_train, df_y14_train.squeeze().values))\n",
    "DSs_train.append(utils.ids2018Dataset(df_X15_train, df_y15_train.squeeze().values))\n",
    "# Task-specific validation\n",
    "DSs_val = utils.buildDataset('val', dest_path, num_task, encoder)\n",
    "# Cumulative validation\n",
    "DS_cumulative_val = utils.buildDataset('val', dest_path, 1, encoder)\n",
    "\n",
    "# Create DataLoaders from Datasets\n",
    "# Task-specific train\n",
    "DLs_train = []\n",
    "for i in range(5):\n",
    "    DLs_train.append(DataLoader(DSs_train[i], batch_size=num_batch, shuffle=True))\n",
    "# Task-specific validation\n",
    "DLs_val = []\n",
    "for i in range(5):\n",
    "    DLs_val.append(DataLoader(DSs_val[i], batch_size=num_batch, shuffle=True))\n",
    "# Cumulative validation\n",
    "DL_cumulative_val = DataLoader(DS_cumulative_val, batch_size=num_batch, shuffle=True)"
   ]
  },
  {
   "cell_type": "markdown",
   "metadata": {
    "id": "bieRnsr8fcbX"
   },
   "source": [
    "### Model Training & Evaluation"
   ]
  },
  {
   "cell_type": "code",
   "execution_count": 72,
   "metadata": {
    "id": "mrxiZSwafUa7"
   },
   "outputs": [],
   "source": [
    "# model = utils.CNN(num_class).to(device)\n",
    "model = utils.MLP(input_size=77, output_size=len(encoder.classes_), hidden_dropout=True, input_dropout=True).to(device)\n",
    "model.double()\n",
    "#Use CrossEntropyLoss\n",
    "model_criterion = nn.CrossEntropyLoss()\n",
    "#Use SGD, learning rate=0.001\n",
    "learning_rate = 0.001\n",
    "optimizer = optim.SGD(model.parameters(), lr=learning_rate, weight_decay = 0.005, momentum = 0.9)"
   ]
  },
  {
   "cell_type": "code",
   "execution_count": 73,
   "metadata": {
    "id": "v9yTaWy1fUYM"
   },
   "outputs": [],
   "source": [
    "train_ac_list = []\n",
    "\n",
    "t1_test_ac_list = []\n",
    "t2_test_ac_list = []\n",
    "t3_test_ac_list = []\n",
    "t4_test_ac_list = []\n",
    "t5_test_ac_list = []\n",
    "task_ac_list = np.zeros((5,6)).tolist()\n",
    "\n",
    "test_ac_list = []"
   ]
  },
  {
   "cell_type": "markdown",
   "metadata": {
    "id": "uk4JIPksfeFi"
   },
   "source": [
    "Period 1 - pretrained: [None] training [t1_train], testing [t1_test]"
   ]
  },
  {
   "cell_type": "code",
   "execution_count": 75,
   "metadata": {
    "colab": {
     "base_uri": "https://localhost:8080/"
    },
    "executionInfo": {
     "elapsed": 101083,
     "status": "ok",
     "timestamp": 1667522661337,
     "user": {
      "displayName": "Jong Heon Kim",
      "userId": "07363861998817775217"
     },
     "user_tz": 240
    },
    "id": "v-tEPrqpfUV3",
    "outputId": "1321e18f-ee75-4e0c-852f-8898258b2c75"
   },
   "outputs": [
    {
     "name": "stderr",
     "output_type": "stream",
     "text": [
      "\r\n",
      "  0%|                                                                                           | 0/20 [00:00<?, ?it/s]"
     ]
    },
    {
     "name": "stdout",
     "output_type": "stream",
     "text": [
      "Period 1 training\n"
     ]
    },
    {
     "name": "stderr",
     "output_type": "stream",
     "text": [
      " 20%|████████████████▌                                                                  | 4/20 [00:32<02:09,  8.07s/it]"
     ]
    },
    {
     "name": "stdout",
     "output_type": "stream",
     "text": [
      "Epoch_5: task_1 Train_Acc: 0.9973\n"
     ]
    },
    {
     "name": "stderr",
     "output_type": "stream",
     "text": [
      "\r\n",
      " 25%|████████████████████▊                                                              | 5/20 [00:40<02:00,  8.05s/it]"
     ]
    },
    {
     "name": "stdout",
     "output_type": "stream",
     "text": [
      "Epoch_5: task_1 Test_Acc: 0.9983\n",
      "-------------------------------------------------------------------\n"
     ]
    },
    {
     "name": "stderr",
     "output_type": "stream",
     "text": [
      " 45%|█████████████████████████████████████▎                                             | 9/20 [01:12<01:28,  8.06s/it]"
     ]
    },
    {
     "name": "stdout",
     "output_type": "stream",
     "text": [
      "Epoch_10: task_1 Train_Acc: 0.9977\n"
     ]
    },
    {
     "name": "stderr",
     "output_type": "stream",
     "text": [
      "\r\n",
      " 50%|█████████████████████████████████████████                                         | 10/20 [01:20<01:20,  8.02s/it]"
     ]
    },
    {
     "name": "stdout",
     "output_type": "stream",
     "text": [
      "Epoch_10: task_1 Test_Acc: 0.9984\n",
      "-------------------------------------------------------------------\n"
     ]
    },
    {
     "name": "stderr",
     "output_type": "stream",
     "text": [
      " 70%|█████████████████████████████████████████████████████████▍                        | 14/20 [01:52<00:48,  8.00s/it]"
     ]
    },
    {
     "name": "stdout",
     "output_type": "stream",
     "text": [
      "Epoch_15: task_1 Train_Acc: 0.9977\n"
     ]
    },
    {
     "name": "stderr",
     "output_type": "stream",
     "text": [
      "\r\n",
      " 75%|█████████████████████████████████████████████████████████████▌                    | 15/20 [02:00<00:39,  7.99s/it]"
     ]
    },
    {
     "name": "stdout",
     "output_type": "stream",
     "text": [
      "Epoch_15: task_1 Test_Acc: 0.9985\n",
      "-------------------------------------------------------------------\n"
     ]
    },
    {
     "name": "stderr",
     "output_type": "stream",
     "text": [
      " 95%|█████████████████████████████████████████████████████████████████████████████▉    | 19/20 [02:32<00:08,  8.03s/it]"
     ]
    },
    {
     "name": "stdout",
     "output_type": "stream",
     "text": [
      "Epoch_20: task_1 Train_Acc: 0.9976\n"
     ]
    },
    {
     "name": "stderr",
     "output_type": "stream",
     "text": [
      "100%|██████████████████████████████████████████████████████████████████████████████████| 20/20 [02:40<00:00,  8.04s/it]"
     ]
    },
    {
     "name": "stdout",
     "output_type": "stream",
     "text": [
      "Epoch_20: task_1 Test_Acc: 0.9985\n",
      "-------------------------------------------------------------------\n",
      "\n"
     ]
    },
    {
     "name": "stderr",
     "output_type": "stream",
     "text": [
      "\n"
     ]
    },
    {
     "name": "stdout",
     "output_type": "stream",
     "text": [
      "Epoch_1: Overall Test_Acc: 0.6357\n"
     ]
    }
   ],
   "source": [
    "print(\"Period 1 training\")\n",
    "for epoch in tqdm(range(num_epoch)):\n",
    "    train_ac_list = utils.training(model, optimizer, DLs_train[0], train_ac_list, epoch, task_idx=1)\n",
    "\n",
    "    t1_test_ac_list = utils.testing(model, DLs_val[0], t1_test_ac_list, epoch, task_idx=1)\n",
    "    \n",
    "    if (epoch+1)%5 == 0:\n",
    "        print('-------------------------------------------------------------------')\n",
    "\n",
    "print()\n",
    "test_ac_list = utils.testing(model, DL_cumulative_val, test_ac_list, epoch=0, task_idx=0)\n",
    "\n",
    "task_ac_list[0][0] = t1_test_ac_list[-1]  # task-specific test accuracy"
   ]
  },
  {
   "cell_type": "markdown",
   "metadata": {
    "id": "v1kXllN4fkMA"
   },
   "source": [
    "Period 2 - pretrained: [t1_train] training [t2_train], testing [t1_test, t2_test]"
   ]
  },
  {
   "cell_type": "code",
   "execution_count": 76,
   "metadata": {
    "colab": {
     "base_uri": "https://localhost:8080/"
    },
    "executionInfo": {
     "elapsed": 193467,
     "status": "ok",
     "timestamp": 1667522854795,
     "user": {
      "displayName": "Jong Heon Kim",
      "userId": "07363861998817775217"
     },
     "user_tz": 240
    },
    "id": "6TCs8WLefUSw",
    "outputId": "79e342d0-4fc6-4e11-a2ce-2a4d8ba4ab66"
   },
   "outputs": [
    {
     "name": "stderr",
     "output_type": "stream",
     "text": [
      "\r\n",
      "  0%|                                                                                           | 0/20 [00:00<?, ?it/s]"
     ]
    },
    {
     "name": "stdout",
     "output_type": "stream",
     "text": [
      "Period 2 training\n"
     ]
    },
    {
     "name": "stderr",
     "output_type": "stream",
     "text": [
      " 20%|████████████████▌                                                                  | 4/20 [00:34<02:18,  8.68s/it]"
     ]
    },
    {
     "name": "stdout",
     "output_type": "stream",
     "text": [
      "Epoch_5: task_2 Train_Acc: 0.9970\n",
      "Epoch_5: task_1 Test_Acc: 0.9963\n"
     ]
    },
    {
     "name": "stderr",
     "output_type": "stream",
     "text": [
      "\r\n",
      " 25%|████████████████████▊                                                              | 5/20 [00:43<02:08,  8.56s/it]"
     ]
    },
    {
     "name": "stdout",
     "output_type": "stream",
     "text": [
      "Epoch_5: task_2 Test_Acc: 0.9996\n",
      "-------------------------------------------------------------------\n"
     ]
    },
    {
     "name": "stderr",
     "output_type": "stream",
     "text": [
      " 45%|█████████████████████████████████████▎                                             | 9/20 [01:16<01:31,  8.35s/it]"
     ]
    },
    {
     "name": "stdout",
     "output_type": "stream",
     "text": [
      "Epoch_10: task_2 Train_Acc: 0.9976\n",
      "Epoch_10: task_1 Test_Acc: 0.9970\n"
     ]
    },
    {
     "name": "stderr",
     "output_type": "stream",
     "text": [
      "\r\n",
      " 50%|█████████████████████████████████████████                                         | 10/20 [01:24<01:23,  8.39s/it]"
     ]
    },
    {
     "name": "stdout",
     "output_type": "stream",
     "text": [
      "Epoch_10: task_2 Test_Acc: 0.9997\n",
      "-------------------------------------------------------------------\n"
     ]
    },
    {
     "name": "stderr",
     "output_type": "stream",
     "text": [
      " 70%|█████████████████████████████████████████████████████████▍                        | 14/20 [01:58<00:49,  8.30s/it]"
     ]
    },
    {
     "name": "stdout",
     "output_type": "stream",
     "text": [
      "Epoch_15: task_2 Train_Acc: 0.9980\n",
      "Epoch_15: task_1 Test_Acc: 0.9976\n"
     ]
    },
    {
     "name": "stderr",
     "output_type": "stream",
     "text": [
      "\r\n",
      " 75%|█████████████████████████████████████████████████████████████▌                    | 15/20 [02:06<00:41,  8.30s/it]"
     ]
    },
    {
     "name": "stdout",
     "output_type": "stream",
     "text": [
      "Epoch_15: task_2 Test_Acc: 0.9997\n",
      "-------------------------------------------------------------------\n"
     ]
    },
    {
     "name": "stderr",
     "output_type": "stream",
     "text": [
      " 95%|█████████████████████████████████████████████████████████████████████████████▉    | 19/20 [02:39<00:08,  8.29s/it]"
     ]
    },
    {
     "name": "stdout",
     "output_type": "stream",
     "text": [
      "Epoch_20: task_2 Train_Acc: 0.9983\n",
      "Epoch_20: task_1 Test_Acc: 0.9978\n"
     ]
    },
    {
     "name": "stderr",
     "output_type": "stream",
     "text": [
      "100%|██████████████████████████████████████████████████████████████████████████████████| 20/20 [02:47<00:00,  8.39s/it]"
     ]
    },
    {
     "name": "stdout",
     "output_type": "stream",
     "text": [
      "Epoch_20: task_2 Test_Acc: 0.9997\n",
      "-------------------------------------------------------------------\n",
      "\n"
     ]
    },
    {
     "name": "stderr",
     "output_type": "stream",
     "text": [
      "\n"
     ]
    },
    {
     "name": "stdout",
     "output_type": "stream",
     "text": [
      "Epoch_1: Overall Test_Acc: 0.7564\n"
     ]
    }
   ],
   "source": [
    "print(\"Period 2 training\")\n",
    "for epoch in tqdm(range(num_epoch)):\n",
    "    train_ac_list = utils.training(model, optimizer, DLs_train[1], train_ac_list, epoch, task_idx=2)\n",
    "\n",
    "    t1_test_ac_list = utils.testing(model, DLs_val[0], t1_test_ac_list, epoch, task_idx=1)\n",
    "    t2_test_ac_list = utils.testing(model, DLs_val[1], t2_test_ac_list, epoch, task_idx=2)\n",
    "    \n",
    "    if (epoch+1)%5 == 0:\n",
    "        print('-------------------------------------------------------------------')\n",
    "\n",
    "print()\n",
    "test_ac_list = utils.testing(model, DL_cumulative_val, test_ac_list, epoch=0, task_idx=0)\n",
    "\n",
    "task_ac_list[0][1] = t1_test_ac_list[-1]  # task-specific test accuracy\n",
    "task_ac_list[1][1] = t2_test_ac_list[-1]"
   ]
  },
  {
   "cell_type": "markdown",
   "metadata": {
    "id": "0z-bY4hUfkkx"
   },
   "source": [
    "Period 3 - pretrained: [t1_train, t2_train] training [t3_train], testing [t1_test, t2_test, t3_test]"
   ]
  },
  {
   "cell_type": "code",
   "execution_count": 77,
   "metadata": {
    "colab": {
     "base_uri": "https://localhost:8080/"
    },
    "executionInfo": {
     "elapsed": 290119,
     "status": "ok",
     "timestamp": 1667523144904,
     "user": {
      "displayName": "Jong Heon Kim",
      "userId": "07363861998817775217"
     },
     "user_tz": 240
    },
    "id": "06aiN6UjfUQY",
    "outputId": "bb93abc4-c34f-42fb-fbbe-07ddee1f3293"
   },
   "outputs": [
    {
     "name": "stderr",
     "output_type": "stream",
     "text": [
      "\r\n",
      "  0%|                                                                                           | 0/20 [00:00<?, ?it/s]"
     ]
    },
    {
     "name": "stdout",
     "output_type": "stream",
     "text": [
      "Period 3 training\n"
     ]
    },
    {
     "name": "stderr",
     "output_type": "stream",
     "text": [
      " 20%|████████████████▌                                                                  | 4/20 [00:34<02:17,  8.60s/it]"
     ]
    },
    {
     "name": "stdout",
     "output_type": "stream",
     "text": [
      "Epoch_5: task_3 Train_Acc: 0.9634\n",
      "Epoch_5: task_1 Test_Acc: 0.9967\n",
      "Epoch_5: task_2 Test_Acc: 0.8666\n"
     ]
    },
    {
     "name": "stderr",
     "output_type": "stream",
     "text": [
      "\r\n",
      " 25%|████████████████████▊                                                              | 5/20 [00:42<02:08,  8.57s/it]"
     ]
    },
    {
     "name": "stdout",
     "output_type": "stream",
     "text": [
      "Epoch_5: task_3 Test_Acc: 0.9973\n",
      "-------------------------------------------------------------------\n"
     ]
    },
    {
     "name": "stderr",
     "output_type": "stream",
     "text": [
      " 45%|█████████████████████████████████████▎                                             | 9/20 [01:17<01:35,  8.69s/it]"
     ]
    },
    {
     "name": "stdout",
     "output_type": "stream",
     "text": [
      "Epoch_10: task_3 Train_Acc: 0.9669\n",
      "Epoch_10: task_1 Test_Acc: 0.9971\n",
      "Epoch_10: task_2 Test_Acc: 0.9120\n"
     ]
    },
    {
     "name": "stderr",
     "output_type": "stream",
     "text": [
      "\r\n",
      " 50%|█████████████████████████████████████████                                         | 10/20 [01:26<01:26,  8.64s/it]"
     ]
    },
    {
     "name": "stdout",
     "output_type": "stream",
     "text": [
      "Epoch_10: task_3 Test_Acc: 0.9854\n",
      "-------------------------------------------------------------------\n"
     ]
    },
    {
     "name": "stderr",
     "output_type": "stream",
     "text": [
      " 70%|█████████████████████████████████████████████████████████▍                        | 14/20 [02:00<00:51,  8.58s/it]"
     ]
    },
    {
     "name": "stdout",
     "output_type": "stream",
     "text": [
      "Epoch_15: task_3 Train_Acc: 0.9666\n",
      "Epoch_15: task_1 Test_Acc: 0.9975\n",
      "Epoch_15: task_2 Test_Acc: 0.9216\n"
     ]
    },
    {
     "name": "stderr",
     "output_type": "stream",
     "text": [
      "\r\n",
      " 75%|█████████████████████████████████████████████████████████████▌                    | 15/20 [02:08<00:42,  8.56s/it]"
     ]
    },
    {
     "name": "stdout",
     "output_type": "stream",
     "text": [
      "Epoch_15: task_3 Test_Acc: 0.9815\n",
      "-------------------------------------------------------------------\n"
     ]
    },
    {
     "name": "stderr",
     "output_type": "stream",
     "text": [
      " 95%|█████████████████████████████████████████████████████████████████████████████▉    | 19/20 [02:43<00:08,  8.56s/it]"
     ]
    },
    {
     "name": "stdout",
     "output_type": "stream",
     "text": [
      "Epoch_20: task_3 Train_Acc: 0.9672\n",
      "Epoch_20: task_1 Test_Acc: 0.9977\n",
      "Epoch_20: task_2 Test_Acc: 0.9168\n"
     ]
    },
    {
     "name": "stderr",
     "output_type": "stream",
     "text": [
      "100%|██████████████████████████████████████████████████████████████████████████████████| 20/20 [02:51<00:00,  8.59s/it]"
     ]
    },
    {
     "name": "stdout",
     "output_type": "stream",
     "text": [
      "Epoch_20: task_3 Test_Acc: 0.9823\n",
      "-------------------------------------------------------------------\n",
      "\n"
     ]
    },
    {
     "name": "stderr",
     "output_type": "stream",
     "text": [
      "\n"
     ]
    },
    {
     "name": "stdout",
     "output_type": "stream",
     "text": [
      "Epoch_1: Overall Test_Acc: 0.8134\n"
     ]
    }
   ],
   "source": [
    "print(\"Period 3 training\")\n",
    "for epoch in tqdm(range(num_epoch)):\n",
    "    train_ac_list = utils.training(model, optimizer, DLs_train[2], train_ac_list, epoch, task_idx=3)\n",
    "\n",
    "    t1_test_ac_list = utils.testing(model, DLs_val[0], t1_test_ac_list, epoch, task_idx=1)\n",
    "    t2_test_ac_list = utils.testing(model, DLs_val[1], t2_test_ac_list, epoch, task_idx=2)\n",
    "    t3_test_ac_list = utils.testing(model, DLs_val[2], t3_test_ac_list, epoch, task_idx=3)\n",
    "    \n",
    "    if (epoch+1)%5 == 0:\n",
    "        print('-------------------------------------------------------------------')\n",
    "\n",
    "print()\n",
    "test_ac_list = utils.testing(model, DL_cumulative_val, test_ac_list, epoch=0, task_idx=0)\n",
    "\n",
    "task_ac_list[0][2] = t1_test_ac_list[-1]  # task-specific test accuracy\n",
    "task_ac_list[1][2] = t2_test_ac_list[-1]\n",
    "task_ac_list[2][2] = t3_test_ac_list[-1]"
   ]
  },
  {
   "cell_type": "markdown",
   "metadata": {
    "id": "YnDcQFk1flRO"
   },
   "source": [
    "Period 4 - pretrained: [t1_train, t2_train, t3_train] training [t4_train], testing [t1_test, t2_test, t3_train, t4_train]"
   ]
  },
  {
   "cell_type": "code",
   "execution_count": 78,
   "metadata": {
    "colab": {
     "base_uri": "https://localhost:8080/"
    },
    "executionInfo": {
     "elapsed": 388230,
     "status": "ok",
     "timestamp": 1667523537502,
     "user": {
      "displayName": "Jong Heon Kim",
      "userId": "07363861998817775217"
     },
     "user_tz": 240
    },
    "id": "xRAb5jR7fUMv",
    "outputId": "5184fa1e-10cd-47a1-a8af-c1dfe9a60fcf"
   },
   "outputs": [
    {
     "name": "stderr",
     "output_type": "stream",
     "text": [
      "\r\n",
      "  0%|                                                                                           | 0/20 [00:00<?, ?it/s]"
     ]
    },
    {
     "name": "stdout",
     "output_type": "stream",
     "text": [
      "Period 4 training\n"
     ]
    },
    {
     "name": "stderr",
     "output_type": "stream",
     "text": [
      " 20%|████████████████▌                                                                  | 4/20 [00:35<02:21,  8.86s/it]"
     ]
    },
    {
     "name": "stdout",
     "output_type": "stream",
     "text": [
      "Epoch_5: task_4 Train_Acc: 0.9800\n",
      "Epoch_5: task_1 Test_Acc: 0.9919\n",
      "Epoch_5: task_2 Test_Acc: 0.8654\n",
      "Epoch_5: task_3 Test_Acc: 0.9929\n"
     ]
    },
    {
     "name": "stderr",
     "output_type": "stream",
     "text": [
      "\r\n",
      " 25%|████████████████████▊                                                              | 5/20 [00:44<02:12,  8.85s/it]"
     ]
    },
    {
     "name": "stdout",
     "output_type": "stream",
     "text": [
      "Epoch_5: task_4 Test_Acc: 0.9984\n",
      "-------------------------------------------------------------------\n"
     ]
    },
    {
     "name": "stderr",
     "output_type": "stream",
     "text": [
      " 45%|█████████████████████████████████████▎                                             | 9/20 [01:19<01:36,  8.80s/it]"
     ]
    },
    {
     "name": "stdout",
     "output_type": "stream",
     "text": [
      "Epoch_10: task_4 Train_Acc: 0.9807\n",
      "Epoch_10: task_1 Test_Acc: 0.9927\n",
      "Epoch_10: task_2 Test_Acc: 0.8656\n",
      "Epoch_10: task_3 Test_Acc: 0.9939\n"
     ]
    },
    {
     "name": "stderr",
     "output_type": "stream",
     "text": [
      "\r\n",
      " 50%|█████████████████████████████████████████                                         | 10/20 [01:28<01:28,  8.81s/it]"
     ]
    },
    {
     "name": "stdout",
     "output_type": "stream",
     "text": [
      "Epoch_10: task_4 Test_Acc: 0.9984\n",
      "-------------------------------------------------------------------\n"
     ]
    },
    {
     "name": "stderr",
     "output_type": "stream",
     "text": [
      " 70%|█████████████████████████████████████████████████████████▍                        | 14/20 [02:03<00:53,  8.86s/it]"
     ]
    },
    {
     "name": "stdout",
     "output_type": "stream",
     "text": [
      "Epoch_15: task_4 Train_Acc: 0.9804\n",
      "Epoch_15: task_1 Test_Acc: 0.9930\n",
      "Epoch_15: task_2 Test_Acc: 0.9159\n",
      "Epoch_15: task_3 Test_Acc: 0.9779\n"
     ]
    },
    {
     "name": "stderr",
     "output_type": "stream",
     "text": [
      "\r\n",
      " 75%|█████████████████████████████████████████████████████████████▌                    | 15/20 [02:13<00:44,  8.97s/it]"
     ]
    },
    {
     "name": "stdout",
     "output_type": "stream",
     "text": [
      "Epoch_15: task_4 Test_Acc: 0.9984\n",
      "-------------------------------------------------------------------\n"
     ]
    },
    {
     "name": "stderr",
     "output_type": "stream",
     "text": [
      " 95%|█████████████████████████████████████████████████████████████████████████████▉    | 19/20 [02:49<00:08,  8.96s/it]"
     ]
    },
    {
     "name": "stdout",
     "output_type": "stream",
     "text": [
      "Epoch_20: task_4 Train_Acc: 0.9803\n",
      "Epoch_20: task_1 Test_Acc: 0.9928\n",
      "Epoch_20: task_2 Test_Acc: 0.9158\n",
      "Epoch_20: task_3 Test_Acc: 0.9775\n"
     ]
    },
    {
     "name": "stderr",
     "output_type": "stream",
     "text": [
      "100%|██████████████████████████████████████████████████████████████████████████████████| 20/20 [02:58<00:00,  8.90s/it]"
     ]
    },
    {
     "name": "stdout",
     "output_type": "stream",
     "text": [
      "Epoch_20: task_4 Test_Acc: 0.9984\n",
      "-------------------------------------------------------------------\n",
      "\n"
     ]
    },
    {
     "name": "stderr",
     "output_type": "stream",
     "text": [
      "\n"
     ]
    },
    {
     "name": "stdout",
     "output_type": "stream",
     "text": [
      "Epoch_1: Overall Test_Acc: 0.9528\n"
     ]
    }
   ],
   "source": [
    "print(\"Period 4 training\")\n",
    "for epoch in tqdm(range(num_epoch)):\n",
    "    train_ac_list = utils.training(model, optimizer, DLs_train[3], train_ac_list, epoch, task_idx=4)\n",
    "\n",
    "    t1_test_ac_list = utils.testing(model, DLs_val[0], t1_test_ac_list, epoch, task_idx=1)\n",
    "    t2_test_ac_list = utils.testing(model, DLs_val[1], t2_test_ac_list, epoch, task_idx=2)\n",
    "    t3_test_ac_list = utils.testing(model, DLs_val[2], t3_test_ac_list, epoch, task_idx=3)\n",
    "    t4_test_ac_list = utils.testing(model, DLs_val[3], t4_test_ac_list, epoch, task_idx=4)\n",
    "    \n",
    "    if (epoch+1)%5 == 0:\n",
    "        print('-------------------------------------------------------------------')\n",
    "\n",
    "print()\n",
    "test_ac_list = utils.testing(model, DL_cumulative_val, test_ac_list, epoch=0, task_idx=0)\n",
    "\n",
    "task_ac_list[0][3] = t1_test_ac_list[-1]  # task-specific test accuracy\n",
    "task_ac_list[1][3] = t2_test_ac_list[-1]\n",
    "task_ac_list[2][3] = t3_test_ac_list[-1]\n",
    "task_ac_list[3][3] = t4_test_ac_list[-1]"
   ]
  },
  {
   "cell_type": "markdown",
   "metadata": {
    "id": "XLh5580zfl02"
   },
   "source": [
    "Period 5 - pretrained: [t1_train, t2_train, t3_train, t4_train] training [t5_train], testing [t1_test, t2_test, t3_train, t4_train, t5_train]"
   ]
  },
  {
   "cell_type": "code",
   "execution_count": 79,
   "metadata": {
    "colab": {
     "base_uri": "https://localhost:8080/"
    },
    "executionInfo": {
     "elapsed": 446656,
     "status": "ok",
     "timestamp": 1667523984131,
     "user": {
      "displayName": "Jong Heon Kim",
      "userId": "07363861998817775217"
     },
     "user_tz": 240
    },
    "id": "Dw53WQWSfUJ9",
    "outputId": "5435d34f-8548-44a1-b643-4dd6ebff9168"
   },
   "outputs": [
    {
     "name": "stderr",
     "output_type": "stream",
     "text": [
      "\r\n",
      "  0%|                                                                                           | 0/20 [00:00<?, ?it/s]"
     ]
    },
    {
     "name": "stdout",
     "output_type": "stream",
     "text": [
      "Period 5 training\n"
     ]
    },
    {
     "name": "stderr",
     "output_type": "stream",
     "text": [
      " 20%|████████████████▌                                                                  | 4/20 [00:25<01:41,  6.33s/it]"
     ]
    },
    {
     "name": "stdout",
     "output_type": "stream",
     "text": [
      "Epoch_5: task_5 Train_Acc: 0.9298\n",
      "Epoch_5: task_1 Test_Acc: 0.9938\n",
      "Epoch_5: task_2 Test_Acc: 0.8647\n",
      "Epoch_5: task_3 Test_Acc: 0.9982\n",
      "Epoch_5: task_4 Test_Acc: 0.9984\n"
     ]
    },
    {
     "name": "stderr",
     "output_type": "stream",
     "text": [
      "\r\n",
      " 25%|████████████████████▊                                                              | 5/20 [00:31<01:34,  6.33s/it]"
     ]
    },
    {
     "name": "stdout",
     "output_type": "stream",
     "text": [
      "Epoch_5: task_5 Test_Acc: 0.8869\n",
      "-------------------------------------------------------------------\n"
     ]
    },
    {
     "name": "stderr",
     "output_type": "stream",
     "text": [
      " 45%|█████████████████████████████████████▎                                             | 9/20 [00:56<01:09,  6.32s/it]"
     ]
    },
    {
     "name": "stdout",
     "output_type": "stream",
     "text": [
      "Epoch_10: task_5 Train_Acc: 0.9305\n",
      "Epoch_10: task_1 Test_Acc: 0.9937\n",
      "Epoch_10: task_2 Test_Acc: 0.8653\n",
      "Epoch_10: task_3 Test_Acc: 0.9981\n",
      "Epoch_10: task_4 Test_Acc: 0.9984\n"
     ]
    },
    {
     "name": "stderr",
     "output_type": "stream",
     "text": [
      "\r\n",
      " 50%|█████████████████████████████████████████                                         | 10/20 [01:03<01:03,  6.32s/it]"
     ]
    },
    {
     "name": "stdout",
     "output_type": "stream",
     "text": [
      "Epoch_10: task_5 Test_Acc: 0.8873\n",
      "-------------------------------------------------------------------\n"
     ]
    },
    {
     "name": "stderr",
     "output_type": "stream",
     "text": [
      " 70%|█████████████████████████████████████████████████████████▍                        | 14/20 [01:28<00:37,  6.29s/it]"
     ]
    },
    {
     "name": "stdout",
     "output_type": "stream",
     "text": [
      "Epoch_15: task_5 Train_Acc: 0.9305\n",
      "Epoch_15: task_1 Test_Acc: 0.9955\n",
      "Epoch_15: task_2 Test_Acc: 0.8654\n",
      "Epoch_15: task_3 Test_Acc: 0.9982\n",
      "Epoch_15: task_4 Test_Acc: 0.9984\n"
     ]
    },
    {
     "name": "stderr",
     "output_type": "stream",
     "text": [
      "\r\n",
      " 75%|█████████████████████████████████████████████████████████████▌                    | 15/20 [01:34<00:31,  6.31s/it]"
     ]
    },
    {
     "name": "stdout",
     "output_type": "stream",
     "text": [
      "Epoch_15: task_5 Test_Acc: 0.8874\n",
      "-------------------------------------------------------------------\n"
     ]
    },
    {
     "name": "stderr",
     "output_type": "stream",
     "text": [
      " 95%|█████████████████████████████████████████████████████████████████████████████▉    | 19/20 [01:59<00:06,  6.30s/it]"
     ]
    },
    {
     "name": "stdout",
     "output_type": "stream",
     "text": [
      "Epoch_20: task_5 Train_Acc: 0.9310\n",
      "Epoch_20: task_1 Test_Acc: 0.9964\n",
      "Epoch_20: task_2 Test_Acc: 0.8655\n",
      "Epoch_20: task_3 Test_Acc: 0.9986\n",
      "Epoch_20: task_4 Test_Acc: 0.9984\n"
     ]
    },
    {
     "name": "stderr",
     "output_type": "stream",
     "text": [
      "100%|██████████████████████████████████████████████████████████████████████████████████| 20/20 [02:06<00:00,  6.32s/it]"
     ]
    },
    {
     "name": "stdout",
     "output_type": "stream",
     "text": [
      "Epoch_20: task_5 Test_Acc: 0.8874\n",
      "-------------------------------------------------------------------\n",
      "\n"
     ]
    },
    {
     "name": "stderr",
     "output_type": "stream",
     "text": [
      "\n"
     ]
    },
    {
     "name": "stdout",
     "output_type": "stream",
     "text": [
      "Epoch_1: Overall Test_Acc: 0.9547\n"
     ]
    }
   ],
   "source": [
    "print(\"Period 5 training\")\n",
    "for epoch in tqdm(range(num_epoch)):\n",
    "    train_ac_list = utils.training(model, optimizer, DLs_train[4], train_ac_list, epoch, task_idx=5)\n",
    "\n",
    "    t1_test_ac_list = utils.testing(model, DLs_val[0], t1_test_ac_list, epoch, task_idx=1)\n",
    "    t2_test_ac_list = utils.testing(model, DLs_val[1], t2_test_ac_list, epoch, task_idx=2)\n",
    "    t3_test_ac_list = utils.testing(model, DLs_val[2], t3_test_ac_list, epoch, task_idx=3)\n",
    "    t4_test_ac_list = utils.testing(model, DLs_val[3], t4_test_ac_list, epoch, task_idx=4)\n",
    "    t5_test_ac_list = utils.testing(model, DLs_val[4], t5_test_ac_list, epoch, task_idx=5)\n",
    "\n",
    "    \n",
    "    if (epoch+1)%5 == 0:\n",
    "        print('-------------------------------------------------------------------')\n",
    "\n",
    "print()\n",
    "test_ac_list = utils.testing(model, DL_cumulative_val, test_ac_list, epoch=0, task_idx=0)\n",
    "\n",
    "task_ac_list[0][4] = t1_test_ac_list[-1]  # task-specific test accuracy\n",
    "task_ac_list[1][4] = t2_test_ac_list[-1]\n",
    "task_ac_list[2][4] = t3_test_ac_list[-1]\n",
    "task_ac_list[3][4] = t4_test_ac_list[-1]\n",
    "task_ac_list[4][4] = t5_test_ac_list[-1]"
   ]
  },
  {
   "cell_type": "markdown",
   "metadata": {
    "id": "pl2kC1IPfy0J"
   },
   "source": [
    "### Visualize results"
   ]
  },
  {
   "cell_type": "code",
   "execution_count": 80,
   "metadata": {
    "colab": {
     "base_uri": "https://localhost:8080/",
     "height": 621
    },
    "executionInfo": {
     "elapsed": 1161,
     "status": "ok",
     "timestamp": 1667523985268,
     "user": {
      "displayName": "Jong Heon Kim",
      "userId": "07363861998817775217"
     },
     "user_tz": 240
    },
    "id": "tN4G8mFnfUDM",
    "outputId": "fd2d57a0-630b-42db-a993-44af765eb75e"
   },
   "outputs": [
    {
     "data": {
      "image/png": "[encoded data removed]",
      "text/plain": [
       "<Figure size 1440x720 with 1 Axes>"
      ]
     },
     "metadata": {
      "needs_background": "light"
     },
     "output_type": "display_data"
    }
   ],
   "source": [
    "#Plot - use all data in test accuracy of each task\n",
    "plt.figure(figsize=[20,10])\n",
    "plt.plot(np.arange(0, int(5*num_epoch)), train_ac_list, color='grey', linestyle='-', label='train_ac', alpha=0.8)\n",
    "plt.plot(np.arange(0, int(5*num_epoch)), t1_test_ac_list, color='blue', linestyle='--', label='t1_test_ac', alpha=0.8)\n",
    "plt.plot(np.arange(int(1*num_epoch), int(5*num_epoch)), t2_test_ac_list, color='red', linestyle='--', label='t2_test_ac', alpha=0.8)\n",
    "plt.plot(np.arange(int(2*num_epoch), int(5*num_epoch)), t3_test_ac_list, color='darkgreen', linestyle='--', label='t3_test_ac', alpha=0.8)\n",
    "plt.plot(np.arange(int(3*num_epoch), int(5*num_epoch)), t4_test_ac_list, color='purple', linestyle='--', label='t4_test_ac', alpha=0.8)\n",
    "plt.plot(np.arange(int(4*num_epoch), int(5*num_epoch)), t5_test_ac_list, color='orange', linestyle='--', label='t5_test_ac', alpha=0.8)\n",
    "plt.plot([20, 40, 60, 80, 100], test_ac_list, color='black', marker='o', linestyle='--', label='overall_test_ac', alpha=0.8)\n",
    "plt.legend()\n",
    "plt.title(\"Training and Test Accuracy\")\n",
    "plt.xlabel(\"number of tasks\")\n",
    "plt.ylabel(\"avg_accuracy\")\n",
    "plt.xticks([0, 20, 40, 60, 80],[1, 2, 3, 4, 5])\n",
    "plt.show()"
   ]
  },
  {
   "cell_type": "code",
   "execution_count": 81,
   "metadata": {
    "colab": {
     "base_uri": "https://localhost:8080/",
     "height": 621
    },
    "executionInfo": {
     "elapsed": 36,
     "status": "ok",
     "timestamp": 1667523985273,
     "user": {
      "displayName": "Jong Heon Kim",
      "userId": "07363861998817775217"
     },
     "user_tz": 240
    },
    "id": "xUcqTXa_fT6a",
    "outputId": "d6395742-a30c-4908-9cda-783d54c641f8"
   },
   "outputs": [
    {
     "data": {
      "image/png": "[encoded data removed]",
      "text/plain": [
       "<Figure size 1440x720 with 1 Axes>"
      ]
     },
     "metadata": {
      "needs_background": "light"
     },
     "output_type": "display_data"
    }
   ],
   "source": [
    "#Plot - average accuracy of each task\n",
    "for i in range(5):\n",
    "  task_ac_list[i][5] = task_ac_list[i][4]\n",
    "\n",
    "plt.figure(figsize=[20,10])\n",
    "plt.plot(np.arange(1, 7), task_ac_list[0], color='blue', linestyle='solid', label='t1_test_ac', alpha=0.8)\n",
    "plt.plot(np.arange(1, 7), task_ac_list[1], color='red', linestyle='dotted', label='t2_test_ac', alpha=0.8)\n",
    "plt.plot(np.arange(1, 7), task_ac_list[2], color='darkgreen', linestyle='dashed', label='t3_test_ac', alpha=0.8)\n",
    "plt.plot(np.arange(1, 7), task_ac_list[3], color='purple', linestyle='dashdot', label='t4_test_ac', alpha=0.8)\n",
    "plt.plot(np.arange(1, 7), task_ac_list[4], color='orange', linestyle='solid', label='t5_test_ac', alpha=0.8)\n",
    "plt.legend()\n",
    "plt.title(\"Test Accuracy at each period\")\n",
    "plt.xlabel(\"number of tasks\")\n",
    "plt.ylabel(\"Accuracy\")\n",
    "plt.xticks([1, 2, 3, 4, 5])\n",
    "plt.ylim([0.9, 1])\n",
    "plt.show()\n"
   ]
  },
  {
   "cell_type": "code",
   "execution_count": null,
   "metadata": {
    "colab": {
     "base_uri": "https://localhost:8080/",
     "height": 53
    },
    "executionInfo": {
     "elapsed": 30,
     "status": "ok",
     "timestamp": 1667508973985,
     "user": {
      "displayName": "Jong Heon Kim",
      "userId": "07363861998817775217"
     },
     "user_tz": 240
    },
    "id": "1mKTgggLf68c",
    "outputId": "55b165a5-c604-41ac-96e0-a0f789704873"
   },
   "outputs": [],
   "source": [
    "\"\"\"\n",
    "#Predict Sample 10 examples from MNIST\n",
    "print(\"\\nPredict \\n\")\n",
    "idx = np.random.choice(10000, 10, True)\n",
    "\n",
    "for i in idx:\n",
    "    image = test_loader.dataset[i][0].reshape(1, 1, 28*28).float()\n",
    "    output = model(image.to(device))\n",
    "    y_pred = torch.argmax(output, dim=1)\n",
    "    \n",
    "    plt.figure(figsize=(1, 1))\n",
    "    plt.imshow(test_loader.dataset[i][0].reshape(28,28), cmap=plt.cm.gray_r)\n",
    "    plt.show()\n",
    "    print(\"true_label: {}, y_pred: {}\\n\".format(test_loader.dataset[i][1], y_pred[0]))\n",
    "\"\"\""
   ]
  }
 ],
 "metadata": {
  "accelerator": "GPU",
  "colab": {
   "authorship_tag": "ABX9TyPX/OcsuhrMfpCN3lbopeA4",
   "collapsed_sections": [],
   "mount_file_id": "1VkJTqkVozn2gVf63xerk-0dZNSk4a9Tg",
   "provenance": []
  },
  "gpuClass": "premium",
  "kernelspec": {
   "display_name": "Python 3.9.7 ('base')",
   "language": "python",
   "name": "python3"
  },
  "language_info": {
   "codemirror_mode": {
    "name": "ipython",
    "version": 3
   },
   "file_extension": ".py",
   "mimetype": "text/x-python",
   "name": "python",
   "nbconvert_exporter": "python",
   "pygments_lexer": "ipython3",
   "version": "3.9.7"
  },
  "vscode": {
   "interpreter": {
    "hash": "192ab5a1607677083fae002a536c1d856857f5c9664b26d8aa2b736899d59f3d"
   }
  }
 },
 "nbformat": 4,
 "nbformat_minor": 1
}
